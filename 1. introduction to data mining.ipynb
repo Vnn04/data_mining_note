{
 "cells": [
  {
   "cell_type": "markdown",
   "metadata": {},
   "source": [
    "### What is data mining"
   ]
  },
  {
   "cell_type": "markdown",
   "metadata": {},
   "source": [
    "**Data mining** là quá trình trích xuất thông tin, mẫu ẩn và xu hướng từ dữ liệu lớn. Đóng vai trò quan trọng trong nhiều lĩnh vực như kinh doanh, y tế, giáo dục, và phân tích dữ liệu."
   ]
  },
  {
   "cell_type": "markdown",
   "metadata": {},
   "source": [
    "#### Why do we need Data Mining?"
   ]
  },
  {
   "cell_type": "markdown",
   "metadata": {},
   "source": [
    "Khi lượng dữ liệu ngày càng lớn và phức tạp, việc tìm kiếm thông tin giá trị thủ công trở nên khó khăn. Data Mining giúp:\n",
    "+ Dự đoán hành vi của khách hàng\n",
    "+ Phát hiện gian lận\n",
    "+ Tối ưu hóa chiến lược kinh doanh và marketing"
   ]
  },
  {
   "cell_type": "markdown",
   "metadata": {},
   "source": [
    "#### Quy trình Data Mining"
   ]
  },
  {
   "cell_type": "markdown",
   "metadata": {},
   "source": [
    "1. **Thu thập dữ liệu**: tập hợp dữ liệu từ nhiều nguồn\n",
    "2. **Tiền xử lý dữ liệu**: \n",
    "    + *Làm sạch dữ liệu*: loại bỏ giá trị thiếu hoặc nhiễu\n",
    "    + *Chuẩn hóa dữ liệu*: Đưa dữ liệu về cùng thang đo\n",
    "    + *Giảm chiều dữ liệu*: Lược bỏ các biến không cần thiết\n",
    "3. **Chọn phương pháp khai phá**: chọn kỹ thuật phù hợp\n",
    "4. **Xử lý dữ liệu**: Áp dụng các thuật toán để tìm ra mẫu hoặc xu hướng\n",
    "5. **Đánh giá mô hình**: Đo lường độ chính xác của mô hình bằng các chỉ số (accuray, F1-score)\n",
    "6. **Diễn giải và triển khai**: biến kết quả thành hành động thực tiễn"
   ]
  },
  {
   "cell_type": "markdown",
   "metadata": {},
   "source": [
    "#### Các kỹ thuật phổ biến trong Data Mining"
   ]
  },
  {
   "cell_type": "markdown",
   "metadata": {},
   "source": [
    "**1. Phân loại**\n",
    "+ Dùng để gán nhãn cho dữ liệu mới dựa trên dữ liệu cũ\n",
    "+ Ví dụ: phân loại email là spam hoặc không spam\n",
    "+ Thuật toán phổ biến: Decision Tree, Random Forest, Naive Bayes, SVM"
   ]
  },
  {
   "cell_type": "markdown",
   "metadata": {},
   "source": [
    "**2. Phân cụm**\n",
    "+ Tìm nhóm đối tượng có đặc điểm giống nhau\n",
    "+ Ví dụ: Phân nhóm khách hàng dựa trên thói quen mua sắm\n",
    "+ Thuật toán: K-mean, DBSCAN, Hierachical Clustering."
   ]
  },
  {
   "cell_type": "markdown",
   "metadata": {},
   "source": [
    "**3. Hồi Quy**\n",
    "+ Dự đoán giá trị liên tục\n",
    "+ Ví dụ: Dự đoán giá nhà dựa trên diện tích và vị trí\n",
    "+ Thuật toán: Linear Regression, Ridge Regression"
   ]
  },
  {
   "cell_type": "markdown",
   "metadata": {},
   "source": [
    "**4. Phát hiện bất thường**\n",
    "+ Phát hiện các mẫu bất thường hoặc giao dịch gian lận\n",
    "+ Ví dụ: phát hiện giao dịch thẻ tín dụng đáng ngờ"
   ]
  },
  {
   "cell_type": "markdown",
   "metadata": {},
   "source": [
    "**5. Khái phá luật kết hợp**\n",
    "+ Tìm mối quan hệ giữa các mục trong dữ liệu\n",
    "+ Ví dụ: Khách hàng mua sữa có khả năng mua bánh mỳ\n",
    "+ Thuật toán: Apriori, FP-Grownth"
   ]
  },
  {
   "cell_type": "markdown",
   "metadata": {},
   "source": [
    "#### Thách thức trong Data Mining"
   ]
  },
  {
   "cell_type": "markdown",
   "metadata": {},
   "source": [
    "+ Dữ liệu nhiễu và thiếu: Làm sạch dữ liệu mất thời gian\n",
    "+ Chiều dữ liệu lớn: nhiều biến gây khó khăn cho xử lý\n",
    "+ Bảo mật và đạo đức: đảm bảo dữ liệu khách hàng được bảo vệ"
   ]
  },
  {
   "cell_type": "markdown",
   "metadata": {},
   "source": [
    "#### Tương lai của Data Mining"
   ]
  },
  {
   "cell_type": "markdown",
   "metadata": {},
   "source": [
    "+ Machine Learning và AI sẽ ngày càng tích hợp sâu với Data Mining\n",
    "+ Data Stream Mining: Khai phá dữ liệu theo thời gian thực\n",
    "+ Big Data: áp dụng cho dữ liệu khổng lồ từ IoT và Social Media"
   ]
  }
 ],
 "metadata": {
  "language_info": {
   "name": "python"
  }
 },
 "nbformat": 4,
 "nbformat_minor": 2
}
