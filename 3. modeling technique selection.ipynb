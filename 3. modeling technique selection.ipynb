{
 "cells": [
  {
   "cell_type": "markdown",
   "metadata": {},
   "source": [
    "### Modeling Technique Selection"
   ]
  },
  {
   "cell_type": "markdown",
   "metadata": {},
   "source": [
    "Một bước quan trọng trong quy trình khai phá dữ liệu, nó quyết định cách tìm ra mẫu hoặc xu hướng từ dữ liệu. Tùy thuộc vào bài toán và dữ liệu, ta sẽ chọn những thuật toán và kỹ thuật phù hợp để đạt được mục tiêu mong muốn."
   ]
  },
  {
   "cell_type": "markdown",
   "metadata": {},
   "source": [
    "#### 1. Chọn phương pháp dựa trên loại bài toán\n",
    "Dựa vào mục tiêu khai phá, bài toán của chúng ta sẽ rơi vào một trong các bài toán:\n",
    "1. Phân loại (Classification) - Khi cần dự đoán một nhãn thuộc loại nào\n",
    "2. Hồi quy (Regression) - Khi cần dự đoán một giá trị số liên tục\n",
    "3. Phân cụm (Clustering) - Khi cần nhóm các đối tượng dựa vào đặc điểm tương đồng.\n",
    "4. Khai phá luật kết hợp (association rule mining) - Khi cần tìm mối quan hệ giữa các đối tượng\n",
    "5. Phát hiện bất thường (Anomaly Detection) - Khi cần phát hiện các giá trị hoặc sự kiến bất thường trong dữ liệu"
   ]
  },
  {
   "cell_type": "markdown",
   "metadata": {},
   "source": [
    "#### 2. Các kỹ thuật phổ biến trong khai phá dữ liệu\n",
    "##### 2.1 Phân loại (Classification)\n",
    "+ Mục tiêu: Dự đoán nhãn (label) của đối tượng dựa trên dữ liệu đã biết.\n",
    "+ Ví dụ: Phân loại email thành \"Spam\" hay \"Không spam\", hoặc dự đoán xem khách hàng có rời bỏ dịch vụ hay không\n",
    "+ Thuật toán phổ biến:\n",
    "    + Decision tree: dễ hiểu và trực quan\n",
    "    + Random fores: tập hợp nhiều decision tree để tăng độ chính xác\n",
    "    + SVM: tìm đường biên tối ưu giữa các lớp\n",
    "    + Naive Bayes: dựa trên xác suất có điều kiện và hoạt động tốt với dữ liệu văn bản"
   ]
  },
  {
   "cell_type": "code",
   "execution_count": 5,
   "metadata": {},
   "outputs": [],
   "source": [
    "from sklearn.datasets import load_iris\n",
    "from sklearn.model_selection import train_test_split \n",
    "from sklearn.ensemble import RandomForestClassifier\n",
    "from sklearn.metrics import accuracy_score"
   ]
  },
  {
   "cell_type": "code",
   "execution_count": 2,
   "metadata": {},
   "outputs": [],
   "source": [
    "X, y = load_iris(return_X_y=True)\n",
    "\n",
    "X_train, X_test, y_train, y_test = train_test_split(X, y, test_size=0.3, random_state=42)"
   ]
  },
  {
   "cell_type": "code",
   "execution_count": 6,
   "metadata": {},
   "outputs": [
    {
     "name": "stdout",
     "output_type": "stream",
     "text": [
      "Accuracy score: 1.0\n"
     ]
    }
   ],
   "source": [
    "model = RandomForestClassifier()\n",
    "model.fit(X_train, y_train)\n",
    "\n",
    "y_pred = model.predict(X_test)\n",
    "acc = accuracy_score(y_test, y_pred)\n",
    "print(f\"Accuracy score: {acc}\")"
   ]
  },
  {
   "cell_type": "markdown",
   "metadata": {},
   "source": [
    "#### 2.2 Hồi quy (Regression)\n",
    "+ Mục tiêu: dự đoán giá trị số liên tục dựa trên dữ liệu đầu vào\n",
    "+ Ví dụ: Dự đoán giá nhà dựa vào diện tích và vị trí.\n",
    "+ Thuật toán phổ biến:\n",
    "    + Linear Regression: Mô hình đơn giản và dễ triển khai\n",
    "    + Ridge và Lasso Regression: Thêm hệ số điều chuẩn để tránh overfitting\n",
    "    + Polynomia Regression: áp dụng cho quan hệ phi tuyến"
   ]
  },
  {
   "cell_type": "code",
   "execution_count": 7,
   "metadata": {},
   "outputs": [],
   "source": [
    "from sklearn.linear_model import LinearRegression\n",
    "\n",
    "X = [[50], [60], [80], [100], [120]]  # Diện tích (m2)\n",
    "y = [150, 180, 240, 300, 350]  # Giá nhà (nghìn USD)"
   ]
  },
  {
   "cell_type": "code",
   "execution_count": 8,
   "metadata": {},
   "outputs": [
    {
     "name": "stdout",
     "output_type": "stream",
     "text": [
      "Giá nhà dự đoán: 267.0731707317073 nghìn USD\n"
     ]
    }
   ],
   "source": [
    "model = LinearRegression()\n",
    "model.fit(X, y)\n",
    "\n",
    "predicted_price = model.predict([[90]])\n",
    "print(f\"Giá nhà dự đoán: {predicted_price[0]} nghìn USD\")"
   ]
  },
  {
   "cell_type": "markdown",
   "metadata": {},
   "source": [
    "##### 2.3 Phân cụm (Clustering)\n",
    "+ Mục tiêu: nhóm đối tượng có đặc điểm tương tự nhau\n",
    "+ Ví dụ: Phân nhóm khách hàng dựa trên thói quen mua sắm\n",
    "+ Thuật toán phổ biến:\n",
    "    + K-means: Tạo `k` cụm với khoảng cách nhỏ nhất trong mỗi cụm\n",
    "    + DBSCAB: tìm cụm dựa trên mật độ dữ liệu\n",
    "    + Hierarchical Clustering: Xây dựng phân cấp cụm theo dạng cây"
   ]
  },
  {
   "cell_type": "code",
   "execution_count": 11,
   "metadata": {},
   "outputs": [],
   "source": [
    "from sklearn.cluster import KMeans\n",
    "import numpy as np "
   ]
  },
  {
   "cell_type": "code",
   "execution_count": 10,
   "metadata": {},
   "outputs": [
    {
     "name": "stdout",
     "output_type": "stream",
     "text": [
      "Nhãn cụm: [0 0 0 1 1 1]\n"
     ]
    },
    {
     "name": "stderr",
     "output_type": "stream",
     "text": [
      "c:\\Users\\nguye\\miniconda3\\envs\\deep-env\\lib\\site-packages\\sklearn\\cluster\\_kmeans.py:1429: UserWarning: KMeans is known to have a memory leak on Windows with MKL, when there are less chunks than available threads. You can avoid it by setting the environment variable OMP_NUM_THREADS=1.\n",
      "  warnings.warn(\n"
     ]
    }
   ],
   "source": [
    "X = np.array([[1, 2], [2, 3], [3, 3], [8, 8], [8, 9], [9, 8]])\n",
    "\n",
    "kmeans = KMeans(n_clusters=2, random_state=42)\n",
    "kmeans.fit(X)\n",
    "\n",
    "print(f\"Nhãn cụm: {kmeans.labels_}\")"
   ]
  },
  {
   "cell_type": "markdown",
   "metadata": {},
   "source": [
    "##### 2.4 Khai phá luật kết hợp (Association Rule Mining)\n",
    "+ **Mục tiêu**: Tìm ra các quy tắc liên kết giữa các mục trong dữ liệu\n",
    "+ **Ví dụ**: Tìm ra rằng nếu khách hàng mua sữa thì có khả năng cao mua bánh mì.\n",
    "+ **Thuật toán phổ biến**:\n",
    "    + Apriori: Xây dựng luật kết hợp từ các tập mục phổ biến\n",
    "    + FP-Growth: Nhanh hơn Apriori khi dữ liệu lớn"
   ]
  },
  {
   "cell_type": "markdown",
   "metadata": {},
   "source": [
    "##### 2.5 Phát hiện bất thường\n",
    "+ Mục tiêu: Phát hiện các sự kiện hoặc điểm dữ liệu bất thường\n",
    "+ Ví dụ: Phát hiện gian lận trong giao dịch thẻ tín dụng\n",
    "+ Thuật toán phổ biến:\n",
    "    + Isolation Forest: Phát hiện bất thường dựa trên phân lập dữ liệu\n",
    "    + One-class SVM: Phát hiện bất thường trong không gian dữ liệu cao\n",
    "    + LOF (Local Outlier Factor): Tìm bất thường dựa trên mật độ cục bộ"
   ]
  },
  {
   "cell_type": "markdown",
   "metadata": {},
   "source": [
    "#### 3. Lựa chọn thuật toán phù hợp\n",
    "Khi chọn phương pháp khai phá, bạn cần xem xét:\n",
    "+ Loại dữ liệu: dữ liệu là số, văn bản hay danh mục?\n",
    "+ Kích thước dữ liệu: dữ liệu lớn cần các thuật toán nhanh và tối ưu\n",
    "+ Mục tiêu bài toán: bạn muốn dự đoán, phân loại hay phát hiện bất thường?\n",
    "+ Độ phức tạp: Một số thuật toán dễ hiểu và triển khai hơn các thuật toán khác"
   ]
  },
  {
   "cell_type": "markdown",
   "metadata": {},
   "source": [
    "#### 4. Thực hành và tối ưu hóa mô hình\n",
    "+ Đánh giá mô hình: sử dụng các chỉ số như độ chính xác F1-score, RMSE để đánh giá\n",
    "+ Tối ưu hóa siêu tham số: thử nghiệm với nhiều tham số khác nhau để tìm ra mô hình tốt nhất."
   ]
  }
 ],
 "metadata": {
  "kernelspec": {
   "display_name": "deep-env",
   "language": "python",
   "name": "python3"
  },
  "language_info": {
   "codemirror_mode": {
    "name": "ipython",
    "version": 3
   },
   "file_extension": ".py",
   "mimetype": "text/x-python",
   "name": "python",
   "nbconvert_exporter": "python",
   "pygments_lexer": "ipython3",
   "version": "3.9.19"
  }
 },
 "nbformat": 4,
 "nbformat_minor": 2
}
